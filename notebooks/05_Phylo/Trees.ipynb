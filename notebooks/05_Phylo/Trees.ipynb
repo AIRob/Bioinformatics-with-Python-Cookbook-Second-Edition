{
 "cells": [
  {
   "cell_type": "code",
   "execution_count": 4,
   "metadata": {
    "collapsed": false
   },
   "outputs": [],
   "source": [
    "import dendropy\n",
    "\n",
    "#XXX NOte, this is AFTER reconstruction. Change welcome.ypynb"
   ]
  },
  {
   "cell_type": "code",
   "execution_count": 5,
   "metadata": {
    "collapsed": false
   },
   "outputs": [],
   "source": [
    "ebola_raxml = dendropy.Tree.get_from_path('my_ebola.nex', 'nexus')"
   ]
  },
  {
   "cell_type": "code",
   "execution_count": 6,
   "metadata": {
    "collapsed": false
   },
   "outputs": [
    {
     "name": "stdout",
     "output_type": "stream",
     "text": [
      "'BDBV_KC545396': 2 2\n",
      "'TAFV_FJ217162': 4 4\n",
      "'EBOV_1995_KC242799': 9 9\n",
      "'EBOV_1995_KC242796': 9 9\n",
      "'EBOV_1976_KC242801': 9 9\n",
      "'EBOV_1976_AF272001': 9 9\n",
      "'EBOV_2007_KC242790': 9 9\n",
      "'EBOV_2007_KC242785': 9 9\n",
      "'EBOV_2007_KC242786': 10 10\n",
      "'EBOV_2007_KC242789': 10 10\n",
      "'EBOV_2007_KC242787': 11 11\n",
      "'EBOV_2007_KC242788': 11 11\n",
      "'EBOV_2007_KC242784': 10 10\n",
      "'EBOV_2014_KM034562': 9 9\n",
      "'EBOV_2014_KM034560': 11 11\n",
      "'EBOV_2014_KM034557': 13 13\n",
      "'EBOV_2014_KM034556': 13 13\n",
      "'EBOV_2014_KM034553': 13 13\n",
      "'EBOV_2014_KM034552': 13 13\n",
      "'EBOV_2014_KM034558': 11 11\n",
      "'EBOV_2014_KM034551': 11 11\n",
      "'EBOV_2014_KM034563': 12 12\n",
      "'EBOV_2014_KM034549': 12 12\n",
      "'EBOV_2014_KM034550': 11 11\n",
      "'EBOV_2014_KM034561': 10 10\n",
      "'EBOV_2014_KM034555': 10 10\n",
      "'EBOV_2014_KM034554': 10 10\n",
      "'EBOV_2014_KM034559': 7 7\n",
      "'RESTV_FJ621584': 7 7\n",
      "'RESTV_FJ621585': 9 9\n",
      "'RESTV_JX477166': 10 10\n",
      "'RESTV_AB050936': 10 10\n",
      "'RESTV_FJ621583': 9 9\n",
      "'RESTV_JX477165': 9 9\n",
      "'SUDV_JN638998': 9 9\n",
      "'SUDV_AY729654': 9 9\n",
      "'SUDV_KC589025': 8 8\n",
      "'SUDV_EU338380': 8 8\n",
      "'SUDV_FJ968794': 9 9\n",
      "'SUDV_KC242783': 9 9\n",
      "'BDBV_FJ217161': 3 3\n",
      "'BDBV_KC545395': 2 2\n",
      "'BDBV_KC545394': 2 2\n",
      "'BDBV_KC545393': 1 1\n"
     ]
    }
   ],
   "source": [
    "def compute_level(node, level=0):\n",
    "    for child in node.child_nodes():\n",
    "        compute_level(child, level + 1)\n",
    "    if node.taxon is not None:\n",
    "        print(\"%s: %d %d\" % (node.taxon, node.level(), level))\n",
    "\n",
    "compute_level(ebola_raxml.seed_node)"
   ]
  },
  {
   "cell_type": "code",
   "execution_count": 7,
   "metadata": {
    "collapsed": false
   },
   "outputs": [
    {
     "name": "stdout",
     "output_type": "stream",
     "text": [
      "'BDBV_KC545396': 0 2\n",
      "'TAFV_FJ217162': 0 4\n",
      "'EBOV_1995_KC242799': 0 9\n",
      "'EBOV_1995_KC242796': 0 9\n",
      "Internal: 1 8\n",
      "'EBOV_1976_KC242801': 0 9\n",
      "'EBOV_1976_AF272001': 0 9\n",
      "Internal: 1 8\n",
      "Internal: 2 7\n",
      "'EBOV_2007_KC242790': 0 9\n",
      "'EBOV_2007_KC242785': 0 9\n",
      "Internal: 1 8\n",
      "'EBOV_2007_KC242786': 0 10\n",
      "'EBOV_2007_KC242789': 0 10\n",
      "Internal: 1 9\n",
      "'EBOV_2007_KC242787': 0 11\n",
      "'EBOV_2007_KC242788': 0 11\n",
      "Internal: 1 10\n",
      "'EBOV_2007_KC242784': 0 10\n",
      "Internal: 2 9\n",
      "Internal: 3 8\n",
      "Internal: 4 7\n",
      "Internal: 5 6\n",
      "'EBOV_2014_KM034562': 0 9\n",
      "'EBOV_2014_KM034560': 0 11\n",
      "'EBOV_2014_KM034557': 0 13\n",
      "'EBOV_2014_KM034556': 0 13\n",
      "Internal: 1 12\n",
      "'EBOV_2014_KM034553': 0 13\n",
      "'EBOV_2014_KM034552': 0 13\n",
      "Internal: 1 12\n",
      "Internal: 2 11\n",
      "Internal: 3 10\n",
      "'EBOV_2014_KM034558': 0 11\n",
      "'EBOV_2014_KM034551': 0 11\n",
      "Internal: 1 10\n",
      "Internal: 4 9\n",
      "Internal: 5 8\n",
      "'EBOV_2014_KM034563': 0 12\n",
      "'EBOV_2014_KM034549': 0 12\n",
      "Internal: 1 11\n",
      "'EBOV_2014_KM034550': 0 11\n",
      "Internal: 2 10\n",
      "'EBOV_2014_KM034561': 0 10\n",
      "Internal: 3 9\n",
      "'EBOV_2014_KM034555': 0 10\n",
      "'EBOV_2014_KM034554': 0 10\n",
      "Internal: 1 9\n",
      "Internal: 4 8\n",
      "Internal: 6 7\n",
      "'EBOV_2014_KM034559': 0 7\n",
      "Internal: 7 6\n",
      "Internal: 8 5\n",
      "'RESTV_FJ621584': 0 7\n",
      "'RESTV_FJ621585': 0 9\n",
      "'RESTV_JX477166': 0 10\n",
      "'RESTV_AB050936': 0 10\n",
      "Internal: 1 9\n",
      "Internal: 2 8\n",
      "'RESTV_FJ621583': 0 9\n",
      "'RESTV_JX477165': 0 9\n",
      "Internal: 1 8\n",
      "Internal: 3 7\n",
      "Internal: 4 6\n",
      "'SUDV_JN638998': 0 9\n",
      "'SUDV_AY729654': 0 9\n",
      "Internal: 1 8\n",
      "'SUDV_KC589025': 0 8\n",
      "Internal: 2 7\n",
      "'SUDV_EU338380': 0 8\n",
      "'SUDV_FJ968794': 0 9\n",
      "'SUDV_KC242783': 0 9\n",
      "Internal: 1 8\n",
      "Internal: 2 7\n",
      "Internal: 3 6\n",
      "Internal: 5 5\n",
      "Internal: 9 4\n",
      "Internal: 10 3\n",
      "'BDBV_FJ217161': 0 3\n",
      "Internal: 11 2\n",
      "Internal: 12 1\n",
      "'BDBV_KC545395': 0 2\n",
      "'BDBV_KC545394': 0 2\n",
      "Internal: 1 1\n",
      "'BDBV_KC545393': 0 1\n",
      "Internal: 13 0\n"
     ]
    },
    {
     "data": {
      "text/plain": [
       "13"
      ]
     },
     "execution_count": 7,
     "metadata": {},
     "output_type": "execute_result"
    }
   ],
   "source": [
    "def compute_height(node):\n",
    "    children = node.child_nodes()\n",
    "    if len(children) == 0:\n",
    "        height = 0\n",
    "    else:\n",
    "        height = 1 + max(map(lambda x: compute_height(x), children))\n",
    "    desc = node.taxon or 'Internal'\n",
    "    print(\"%s: %d %d\" % (desc, height, node.level()))\n",
    "    return height\n",
    "\n",
    "compute_height(ebola_raxml.seed_node)"
   ]
  },
  {
   "cell_type": "code",
   "execution_count": 8,
   "metadata": {
    "collapsed": false
   },
   "outputs": [
    {
     "name": "stdout",
     "output_type": "stream",
     "text": [
      "Internal: 3 0\n"
     ]
    }
   ],
   "source": [
    "def compute_nofs(node):\n",
    "    children = node.child_nodes()\n",
    "    nofs = len(children)\n",
    "    map(lambda x: compute_nofs(x), children)\n",
    "    desc = node.taxon or 'Internal'\n",
    "    print(\"%s: %d %d\" % (desc, nofs, node.level()))\n",
    "\n",
    "compute_nofs(ebola_raxml.seed_node)"
   ]
  },
  {
   "cell_type": "code",
   "execution_count": 9,
   "metadata": {
    "collapsed": false
   },
   "outputs": [
    {
     "name": "stdout",
     "output_type": "stream",
     "text": [
      "'BDBV_KC545396' (2)\n",
      "'TAFV_FJ217162' (4)\n",
      "'EBOV_1995_KC242799' (9)\n",
      "'EBOV_1995_KC242796' (9)\n",
      "'EBOV_1976_KC242801' (9)\n",
      "'EBOV_1976_AF272001' (9)\n",
      "'EBOV_2007_KC242790' (9)\n",
      "'EBOV_2007_KC242785' (9)\n",
      "'EBOV_2007_KC242786' (10)\n",
      "'EBOV_2007_KC242789' (10)\n",
      "'EBOV_2007_KC242787' (11)\n",
      "'EBOV_2007_KC242788' (11)\n",
      "'EBOV_2007_KC242784' (10)\n",
      "'EBOV_2014_KM034562' (9)\n",
      "'EBOV_2014_KM034560' (11)\n",
      "'EBOV_2014_KM034557' (13)\n",
      "'EBOV_2014_KM034556' (13)\n",
      "'EBOV_2014_KM034553' (13)\n",
      "'EBOV_2014_KM034552' (13)\n",
      "'EBOV_2014_KM034558' (11)\n",
      "'EBOV_2014_KM034551' (11)\n",
      "'EBOV_2014_KM034563' (12)\n",
      "'EBOV_2014_KM034549' (12)\n",
      "'EBOV_2014_KM034550' (11)\n",
      "'EBOV_2014_KM034561' (10)\n",
      "'EBOV_2014_KM034555' (10)\n",
      "'EBOV_2014_KM034554' (10)\n",
      "'EBOV_2014_KM034559' (7)\n",
      "'RESTV_FJ621584' (7)\n",
      "'RESTV_FJ621585' (9)\n",
      "'RESTV_JX477166' (10)\n",
      "'RESTV_AB050936' (10)\n",
      "'RESTV_FJ621583' (9)\n",
      "'RESTV_JX477165' (9)\n",
      "'SUDV_JN638998' (9)\n",
      "'SUDV_AY729654' (9)\n",
      "'SUDV_KC589025' (8)\n",
      "'SUDV_EU338380' (8)\n",
      "'SUDV_FJ968794' (9)\n",
      "'SUDV_KC242783' (9)\n",
      "'BDBV_FJ217161' (3)\n",
      "'BDBV_KC545395' (2)\n",
      "'BDBV_KC545394' (2)\n",
      "'BDBV_KC545393' (1)\n"
     ]
    }
   ],
   "source": [
    "def print_nodes(node):\n",
    "    for child in node.child_nodes():\n",
    "        print_nodes(child)\n",
    "    if node.taxon is not None:\n",
    "        print('%s (%d)' % (node.taxon, node.level()))\n",
    "\n",
    "print_nodes(ebola_raxml.seed_node)"
   ]
  },
  {
   "cell_type": "code",
   "execution_count": 10,
   "metadata": {
    "collapsed": false
   },
   "outputs": [
    {
     "name": "stdout",
     "output_type": "stream",
     "text": [
      "'BDBV_KC545393' (1)\n",
      "'BDBV_KC545396' (2)\n",
      "'BDBV_KC545395' (2)\n",
      "'BDBV_KC545394' (2)\n",
      "'BDBV_FJ217161' (3)\n",
      "'TAFV_FJ217162' (4)\n",
      "'EBOV_2014_KM034559' (7)\n",
      "'RESTV_FJ621584' (7)\n",
      "'SUDV_KC589025' (8)\n",
      "'SUDV_EU338380' (8)\n",
      "'EBOV_1995_KC242799' (9)\n",
      "'EBOV_1995_KC242796' (9)\n",
      "'EBOV_1976_KC242801' (9)\n",
      "'EBOV_1976_AF272001' (9)\n",
      "'EBOV_2007_KC242790' (9)\n",
      "'EBOV_2007_KC242785' (9)\n",
      "'EBOV_2014_KM034562' (9)\n",
      "'RESTV_FJ621585' (9)\n",
      "'RESTV_FJ621583' (9)\n",
      "'RESTV_JX477165' (9)\n",
      "'SUDV_JN638998' (9)\n",
      "'SUDV_AY729654' (9)\n",
      "'SUDV_FJ968794' (9)\n",
      "'SUDV_KC242783' (9)\n",
      "'EBOV_2007_KC242786' (10)\n",
      "'EBOV_2007_KC242789' (10)\n",
      "'EBOV_2007_KC242784' (10)\n",
      "'EBOV_2014_KM034561' (10)\n",
      "'EBOV_2014_KM034555' (10)\n",
      "'EBOV_2014_KM034554' (10)\n",
      "'RESTV_JX477166' (10)\n",
      "'RESTV_AB050936' (10)\n",
      "'EBOV_2007_KC242787' (11)\n",
      "'EBOV_2007_KC242788' (11)\n",
      "'EBOV_2014_KM034560' (11)\n",
      "'EBOV_2014_KM034558' (11)\n",
      "'EBOV_2014_KM034551' (11)\n",
      "'EBOV_2014_KM034550' (11)\n",
      "'EBOV_2014_KM034563' (12)\n",
      "'EBOV_2014_KM034549' (12)\n",
      "'EBOV_2014_KM034557' (13)\n",
      "'EBOV_2014_KM034556' (13)\n",
      "'EBOV_2014_KM034553' (13)\n",
      "'EBOV_2014_KM034552' (13)\n"
     ]
    }
   ],
   "source": [
    "from collections import deque\n",
    "\n",
    "def print_breadth(tree):\n",
    "    queue = deque()\n",
    "    queue.append(tree.seed_node)\n",
    "    while len(queue) > 0:\n",
    "        process_node = queue.popleft()\n",
    "        if process_node.taxon is not None:\n",
    "            print('%s (%d)' % (process_node.taxon, process_node.level()))\n",
    "        else:\n",
    "            for child in process_node.child_nodes():\n",
    "                queue.append(child)\n",
    "\n",
    "print_breadth(ebola_raxml)"
   ]
  },
  {
   "cell_type": "code",
   "execution_count": 12,
   "metadata": {
    "collapsed": false
   },
   "outputs": [
    {
     "name": "stdout",
     "output_type": "stream",
     "text": [
      "{'BDBV'} 1\n",
      "{'TAFV'} 1\n",
      "{'EBOV1995'} 2\n",
      "{'EBOV1976'} 2\n",
      "{'EBOV2007'} 7\n",
      "{'EBOV2014'} 15\n",
      "{'RESTV'} 6\n",
      "{'SUDV'} 6\n",
      "{'BDBV'} 1\n",
      "{'BDBV'} 2\n",
      "{'BDBV'} 1\n"
     ]
    }
   ],
   "source": [
    "from copy import deepcopy\n",
    "simple_ebola = deepcopy(ebola_raxml)\n",
    "\n",
    "def simplify_tree(node):\n",
    "    prefs = set()\n",
    "    for leaf in node.leaf_nodes():\n",
    "        my_toks = leaf.taxon.label.split(' ')[0].split('_')\n",
    "        if my_toks[0] == 'EBOV':\n",
    "            prefs.add('EBOV' + my_toks[1])\n",
    "        else:\n",
    "            prefs.add(my_toks[0])\n",
    "    if len(prefs) == 1:\n",
    "        print(prefs, len(node.leaf_nodes()))\n",
    "        node.taxon = dendropy.Taxon(label=list(prefs)[0])\n",
    "        #node.collapse_clade()\n",
    "        node.set_child_nodes([])\n",
    "    else:\n",
    "        for child in node.child_nodes():\n",
    "            simplify_tree(child)\n",
    "\n",
    "simplify_tree(simple_ebola.seed_node)\n",
    "simple_ebola.ladderize()\n",
    "simple_ebola.write_to_path('ebola_simple.nex', 'nexus')"
   ]
  },
  {
   "cell_type": "code",
   "execution_count": null,
   "metadata": {
    "collapsed": false
   },
   "outputs": [],
   "source": []
  }
 ],
 "metadata": {
  "kernelspec": {
   "display_name": "Python 3",
   "language": "python",
   "name": "python3"
  },
  "language_info": {
   "codemirror_mode": {
    "name": "ipython",
    "version": 3
   },
   "file_extension": ".py",
   "mimetype": "text/x-python",
   "name": "python",
   "nbconvert_exporter": "python",
   "pygments_lexer": "ipython3",
   "version": "3.6.5"
  }
 },
 "nbformat": 4,
 "nbformat_minor": 2
}
