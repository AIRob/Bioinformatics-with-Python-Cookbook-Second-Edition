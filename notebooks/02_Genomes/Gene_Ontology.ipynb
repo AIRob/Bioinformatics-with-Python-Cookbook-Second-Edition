{
 "cells": [
  {
   "cell_type": "code",
   "execution_count": 1,
   "metadata": {
    "collapsed": false
   },
   "outputs": [],
   "source": [
    "import pygraphviz as pgv\n",
    "from IPython.core.display import Image"
   ]
  },
  {
   "cell_type": "markdown",
   "metadata": {},
   "source": [
    "## The cell below comes from the Orthology notebook"
   ]
  },
  {
   "cell_type": "code",
   "execution_count": 2,
   "metadata": {
    "collapsed": false
   },
   "outputs": [],
   "source": [
    "import requests\n",
    " \n",
    "ensembl_server = 'http://rest.ensembl.org'\n",
    "\n",
    "def do_request(server, service, *args, **kwargs):\n",
    "    params = ''\n",
    "    for a in args:\n",
    "        if a is not None:\n",
    "            params += '/' + a\n",
    "    req = requests.get('%s/%s%s' % (server, service, params),\n",
    "                       params=kwargs,\n",
    "                       headers={'Content-Type': 'application/json'})\n",
    " \n",
    "    if not req.ok:\n",
    "        req.raise_for_status()\n",
    "    return req.json()"
   ]
  },
  {
   "cell_type": "code",
   "execution_count": 3,
   "metadata": {
    "collapsed": false
   },
   "outputs": [],
   "source": [
    "lct_id = 'ENSG00000115850'"
   ]
  },
  {
   "cell_type": "code",
   "execution_count": 4,
   "metadata": {
    "collapsed": false
   },
   "outputs": [
    {
     "name": "stdout",
     "output_type": "stream",
     "text": [
      "28\n",
      "dict_keys(['display_id', 'primary_id', 'version', 'linkage_types', 'description', 'dbname', 'synonyms', 'info_text', 'info_type', 'db_display_name'])\n",
      "GO:0000016 molecular_function lactase activity\n",
      "\"Catalysis of the reaction: lactose + H2O = D-glucose + D-galactose.\" [EC:3.2.1.108]\n",
      "\n",
      "GO:0000016 molecular_function lactase activity\n",
      "\"Catalysis of the reaction: lactose + H2O = D-glucose + D-galactose.\" [EC:3.2.1.108]\n",
      "\n",
      "GO:0000016 molecular_function lactase activity\n",
      "\"Catalysis of the reaction: lactose + H2O = D-glucose + D-galactose.\" [EC:3.2.1.108]\n",
      "\n",
      "GO:0000016 molecular_function lactase activity\n",
      "\"Catalysis of the reaction: lactose + H2O = D-glucose + D-galactose.\" [EC:3.2.1.108]\n",
      "\n",
      "GO:0003824 molecular_function catalytic activity\n",
      "\"Catalysis of a biochemical reaction at physiological temperatures. In biologically catalyzed reactions, the reactants are known as substrates, and the catalysts are naturally occurring macromolecular substances known as enzymes. Enzymes possess specific binding sites for substrates, and are usually composed wholly or largely of protein, but RNA that has catalytic activity (ribozyme) is often also regarded as enzymatic.\" [GOC:vw, ISBN:0198506732]\n",
      "\n",
      "GO:0004553 molecular_function hydrolase activity, hydrolyzing O-glycosyl compounds\n",
      "\"Catalysis of the hydrolysis of any O-glycosyl bond.\" [GOC:mah]\n",
      "\n",
      "GO:0004553 molecular_function hydrolase activity, hydrolyzing O-glycosyl compounds\n",
      "\"Catalysis of the hydrolysis of any O-glycosyl bond.\" [GOC:mah]\n",
      "\n",
      "GO:0005886 cellular_component plasma membrane\n",
      "\"The membrane surrounding a cell that separates the cell from its external environment. It consists of a phospholipid bilayer and associated proteins.\" [ISBN:0716731363]\n",
      "\n",
      "GO:0005886 cellular_component plasma membrane\n",
      "\"The membrane surrounding a cell that separates the cell from its external environment. It consists of a phospholipid bilayer and associated proteins.\" [ISBN:0716731363]\n",
      "\n",
      "GO:0005887 cellular_component integral component of plasma membrane\n",
      "\"The component of the plasma membrane consisting of the gene products and protein complexes having at least some part of their peptide sequence embedded in the hydrophobic region of the membrane.\" [GOC:dos, GOC:go_curators]\n",
      "\n",
      "GO:0005975 biological_process carbohydrate metabolic process\n",
      "\"The chemical reactions and pathways involving carbohydrates, any of a group of organic compounds based of the general formula Cx(H2O)y. Includes the formation of carbohydrate derivatives by the addition of a carbohydrate residue to another molecule.\" [GOC:mah, ISBN:0198506732]\n",
      "\n",
      "GO:0005975 biological_process carbohydrate metabolic process\n",
      "\"The chemical reactions and pathways involving carbohydrates, any of a group of organic compounds based of the general formula Cx(H2O)y. Includes the formation of carbohydrate derivatives by the addition of a carbohydrate residue to another molecule.\" [GOC:mah, ISBN:0198506732]\n",
      "\n",
      "GO:0008152 biological_process metabolic process\n",
      "\"The chemical reactions and pathways, including anabolism and catabolism, by which living organisms transform chemical substances. Metabolic processes typically transform small molecules, but also include macromolecular processes such as DNA repair and replication, and protein synthesis and degradation.\" [GOC:go_curators, ISBN:0198547684]\n",
      "\n",
      "GO:0008422 molecular_function beta-glucosidase activity\n",
      "\"Catalysis of the hydrolysis of terminal, non-reducing beta-D-glucose residues with release of beta-D-glucose.\" [EC:3.2.1.21]\n",
      "\n",
      "GO:0016020 cellular_component membrane\n",
      "\"A lipid bilayer along with all the proteins and protein complexes embedded in it an attached to it.\" [GOC:dos, GOC:mah, ISBN:0815316194]\n",
      "\n",
      "GO:0016020 cellular_component membrane\n",
      "\"A lipid bilayer along with all the proteins and protein complexes embedded in it an attached to it.\" [GOC:dos, GOC:mah, ISBN:0815316194]\n",
      "\n",
      "GO:0016021 cellular_component integral component of membrane\n",
      "\"The component of a membrane consisting of the gene products and protein complexes having at least some part of their peptide sequence embedded in the hydrophobic region of the membrane.\" [GOC:dos, GOC:go_curators]\n",
      "\n",
      "GO:0016324 cellular_component apical plasma membrane\n",
      "\"The region of the plasma membrane located at the apical end of the cell.\" [GOC:curators]\n",
      "\n",
      "GO:0016787 molecular_function hydrolase activity\n",
      "\"Catalysis of the hydrolysis of various bonds, e.g. C-O, C-N, C-C, phosphoric anhydride bonds, etc. Hydrolase is the systematic name for any enzyme of EC class 3.\" [ISBN:0198506732]\n",
      "\n",
      "GO:0016798 molecular_function hydrolase activity, acting on glycosyl bonds\n",
      "\"Catalysis of the hydrolysis of any glycosyl bond.\" [GOC:jl]\n",
      "\n",
      "GO:0017042 molecular_function glycosylceramidase activity\n",
      "\"Catalysis of the reaction: glycosyl-N-acylsphingosine + H2O = a sugar + N-acylsphingosine.\" [EC:3.2.1.62]\n",
      "\n",
      "GO:0044245 biological_process polysaccharide digestion\n",
      "\"The whole of the physical, chemical, and biochemical processes carried out by living organisms to break down ingested polysaccharides into components that may be easily absorbed and directed into metabolism.\" [GOC:go_curators]\n",
      "\n",
      "GO:1901657 biological_process glycosyl compound metabolic process\n",
      "\"The chemical reactions and pathways involving glycosyl compound.\" [GOC:pr, GOC:TermGenie]\n",
      "\n",
      "GO:0004553 molecular_function hydrolase activity, hydrolyzing O-glycosyl compounds\n",
      "\"Catalysis of the hydrolysis of any O-glycosyl bond.\" [GOC:mah]\n",
      "\n",
      "GO:0005975 biological_process carbohydrate metabolic process\n",
      "\"The chemical reactions and pathways involving carbohydrates, any of a group of organic compounds based of the general formula Cx(H2O)y. Includes the formation of carbohydrate derivatives by the addition of a carbohydrate residue to another molecule.\" [GOC:mah, ISBN:0198506732]\n",
      "\n",
      "GO:0008152 biological_process metabolic process\n",
      "\"The chemical reactions and pathways, including anabolism and catabolism, by which living organisms transform chemical substances. Metabolic processes typically transform small molecules, but also include macromolecular processes such as DNA repair and replication, and protein synthesis and degradation.\" [GOC:go_curators, ISBN:0198547684]\n",
      "\n",
      "GO:0016787 molecular_function hydrolase activity\n",
      "\"Catalysis of the hydrolysis of various bonds, e.g. C-O, C-N, C-C, phosphoric anhydride bonds, etc. Hydrolase is the systematic name for any enzyme of EC class 3.\" [ISBN:0198506732]\n",
      "\n",
      "GO:0016798 molecular_function hydrolase activity, acting on glycosyl bonds\n",
      "\"Catalysis of the hydrolysis of any glycosyl bond.\" [GOC:jl]\n",
      "\n"
     ]
    }
   ],
   "source": [
    "refs = do_request(ensembl_server, 'xrefs/id', lct_id, external_db='GO', all_levels='1')\n",
    "print(len(refs))\n",
    "print(refs[0].keys())\n",
    "for ref in refs:\n",
    "    go_id = ref['primary_id']\n",
    "    details = do_request(ensembl_server, 'ontology/id', go_id)\n",
    "    print('%s %s %s' % (go_id,  details['namespace'], ref['description']))\n",
    "    print('%s\\n' % details['definition'])"
   ]
  },
  {
   "cell_type": "code",
   "execution_count": 5,
   "metadata": {
    "collapsed": false
   },
   "outputs": [
    {
     "name": "stdout",
     "output_type": "stream",
     "text": [
      "namespace: molecular_function\n",
      "name: lactase activity\n",
      "children: []\n",
      "subsets: []\n",
      "definition: \"Catalysis of the reaction: lactose + H2O = D-glucose + D-galactose.\" [EC:3.2.1.108]\n",
      "accession: GO:0000016\n",
      "ontology: GO\n",
      "synonyms: ['lactase-phlorizin hydrolase activity', 'lactose galactohydrolase activity']\n",
      "{'ontology': 'GO', 'namespace': 'molecular_function', 'synonyms': ['O-glucosyl hydrolase activity'], 'name': 'hydrolase activity, hydrolyzing O-glycosyl compounds', 'subsets': ['gosubset_prok'], 'definition': '\"Catalysis of the hydrolysis of any O-glycosyl bond.\" [GOC:mah]', 'accession': 'GO:0004553'}\n",
      "GO:0004553 127\n"
     ]
    }
   ],
   "source": [
    "go_id = 'GO:0000016'\n",
    "my_data = do_request(ensembl_server, 'ontology/id', go_id)\n",
    "for k, v in my_data.items():\n",
    "    if k == 'parents':\n",
    "        for parent in v:\n",
    "            print(parent)\n",
    "            parent_id = parent['accession']\n",
    "    else:\n",
    "        print('%s: %s' % (k, str(v)))\n",
    "\n",
    "parent_data = do_request(ensembl_server, 'ontology/id', parent_id)\n",
    "print(parent_id, len(parent_data['children']))"
   ]
  },
  {
   "cell_type": "code",
   "execution_count": 6,
   "metadata": {
    "collapsed": false
   },
   "outputs": [
    {
     "name": "stdout",
     "output_type": "stream",
     "text": [
      "GO:0003674\n",
      "molecular_function \"The actions of a single gene product or complex at the molecular level consisting of a single biochemical activity or multiple causally linked biochemical activities. A given gene product may exhibit one or more molecular functions.\" [GOC:go_curators]\n",
      "\t is a: \n",
      "\n",
      "GO:0004553\n",
      "hydrolase activity, hydrolyzing O-glycosyl compounds \"Catalysis of the hydrolysis of any O-glycosyl bond.\" [GOC:mah]\n",
      "\t is a: GO:0016798\n",
      "\n",
      "GO:0016787\n",
      "hydrolase activity \"Catalysis of the hydrolysis of various bonds, e.g. C-O, C-N, C-C, phosphoric anhydride bonds, etc. Hydrolase is the systematic name for any enzyme of EC class 3.\" [ISBN:0198506732]\n",
      "\t is a: GO:0003824\n",
      "\n",
      "GO:0003824\n",
      "catalytic activity \"Catalysis of a biochemical reaction at physiological temperatures. In biologically catalyzed reactions, the reactants are known as substrates, and the catalysts are naturally occurring macromolecular substances known as enzymes. Enzymes possess specific binding sites for substrates, and are usually composed wholly or largely of protein, but RNA that has catalytic activity (ribozyme) is often also regarded as enzymatic.\" [GOC:vw, ISBN:0198506732]\n",
      "\t is a: GO:0003674\n",
      "\n",
      "GO:0000016\n",
      "lactase activity \"Catalysis of the reaction: lactose + H2O = D-glucose + D-galactose.\" [EC:3.2.1.108]\n",
      "\t is a: GO:0004553\n",
      "\n",
      "GO:0016798\n",
      "hydrolase activity, acting on glycosyl bonds \"Catalysis of the hydrolysis of any glycosyl bond.\" [GOC:jl]\n",
      "\t is a: GO:0016787\n",
      "\n"
     ]
    }
   ],
   "source": [
    "refs = do_request(ensembl_server, 'ontology/ancestors/chart', go_id)\n",
    "for go, entry in refs.items():\n",
    "    print(go)\n",
    "    term = entry['term']\n",
    "    print('%s %s' % (term['name'], term['definition']))\n",
    "    is_a = entry.get('is_a', [])\n",
    "    print('\\t is a: %s\\n' % ', '.join([x['accession'] for x in is_a]))\n"
   ]
  },
  {
   "cell_type": "code",
   "execution_count": 7,
   "metadata": {
    "collapsed": false
   },
   "outputs": [],
   "source": [
    "def get_upper(go_id):\n",
    "    parents = {}\n",
    "    node_data = {}\n",
    "    refs = do_request(ensembl_server, 'ontology/ancestors/chart', go_id)\n",
    "    for ref, entry in refs.items():\n",
    "        my_data = do_request(ensembl_server, 'ontology/id', ref)\n",
    "        node_data[ref] = {'name': entry['term']['name'], 'children': my_data['children']}\n",
    "        try:\n",
    "            parents[ref] = [x['accession'] for x in entry['is_a']]\n",
    "        except KeyError:\n",
    "            pass  # Top of hierarchy\n",
    "    return parents, node_data"
   ]
  },
  {
   "cell_type": "code",
   "execution_count": 8,
   "metadata": {
    "collapsed": false
   },
   "outputs": [],
   "source": [
    "parents, node_data = get_upper(go_id)"
   ]
  },
  {
   "cell_type": "code",
   "execution_count": 9,
   "metadata": {
    "collapsed": false
   },
   "outputs": [
    {
     "name": "stdout",
     "output_type": "stream",
     "text": [
      "strict digraph {\n",
      "\t\"hydrolase activity\n",
      "acting on glycosyl bonds\n",
      "(GO:0016798)\" -> \"...2...\";\n",
      "\t\"hydrolase activity\n",
      "acting on glycosyl bonds\n",
      "(GO:0016798)\" -> \"hydrolase activity\n",
      "hydrolyzing O-glycosyl compounds\n",
      "(GO:0004553)\";\n",
      "\t\"hydrolase activity\n",
      "hydrolyzing O-glycosyl compounds\n",
      "(GO:0004553)\" -> \"...126...\";\n",
      "\t\"hydrolase activity\n",
      "hydrolyzing O-glycosyl compounds\n",
      "(GO:0004553)\" -> \"lactase activity\n",
      "(GO:0000016)\";\n",
      "\t\"catalytic activity\n",
      "(GO:0003824)\" -> \"...18...\";\n",
      "\t\"catalytic activity\n",
      "(GO:0003824)\" -> \"hydrolase activity\n",
      "(GO:0016787)\";\n",
      "\t\"hydrolase activity\n",
      "(GO:0016787)\" -> \"hydrolase activity\n",
      "acting on glycosyl bonds\n",
      "(GO:0016798)\";\n",
      "\t\"hydrolase activity\n",
      "(GO:0016787)\" -> \"...23...\";\n",
      "\t\"molecular_function\n",
      "(GO:0003674)\" -> \"catalytic activity\n",
      "(GO:0003824)\";\n",
      "\t\"molecular_function\n",
      "(GO:0003674)\" -> \"...14...\";\n",
      "}\n",
      "\n"
     ]
    },
    {
     "data": {
      "image/png": "[encoded data removed]",
      "text/plain": [
       "<IPython.core.display.Image object>"
      ]
     },
     "execution_count": 9,
     "metadata": {},
     "output_type": "execute_result"
    }
   ],
   "source": [
    "g = pgv.AGraph(directed=True)\n",
    "for ofs, ofs_parents in parents.items():\n",
    "    ofs_text = '%s\\n(%s)' % (node_data[ofs]['name'].replace(', ', '\\n'), ofs)\n",
    "    for parent in ofs_parents:\n",
    "        parent_text = '%s\\n(%s)' % (node_data[parent]['name'].replace(', ', '\\n'), parent)\n",
    "        children = node_data[parent]['children']\n",
    "        if len(children) < 3:\n",
    "            for child in children:\n",
    "                if child['accession'] in node_data:\n",
    "                    continue\n",
    "                g.add_edge(parent_text, child['accession'])\n",
    "        else:\n",
    "            g.add_edge(parent_text, '...%d...' % (len(children) - 1))\n",
    "        g.add_edge(parent_text, ofs_text)\n",
    "print(g)\n",
    "g.graph_attr['label']='Ontology tree for Lactase activity'\n",
    "g.node_attr['shape']='rectangle'\n",
    "g.layout(prog='dot')\n",
    "g.draw('graph.png')\n",
    "Image(\"graph.png\")"
   ]
  },
  {
   "cell_type": "code",
   "execution_count": 10,
   "metadata": {
    "collapsed": false
   },
   "outputs": [
    {
     "name": "stdout",
     "output_type": "stream",
     "text": [
      "GO:0000016\n",
      "GO:0004553 hydrolase activity, hydrolyzing O-glycosyl compounds \"Catalysis of the hydrolysis of any O-glycosyl bond.\" [GOC:mah]\n",
      "GO:0016798 hydrolase activity, acting on glycosyl bonds \"Catalysis of the hydrolysis of any glycosyl bond.\" [GOC:jl]\n",
      "GO:0016787 hydrolase activity \"Catalysis of the hydrolysis of various bonds, e.g. C-O, C-N, C-C, phosphoric anhydride bonds, etc. Hydrolase is the systematic name for any enzyme of EC class 3.\" [ISBN:0198506732]\n",
      "GO:0003824 catalytic activity \"Catalysis of a biochemical reaction at physiological temperatures. In biologically catalyzed reactions, the reactants are known as substrates, and the catalysts are naturally occurring macromolecular substances known as enzymes. Enzymes possess specific binding sites for substrates, and are usually composed wholly or largely of protein, but RNA that has catalytic activity (ribozyme) is often also regarded as enzymatic.\" [GOC:vw, ISBN:0198506732]\n",
      "GO:0003674 molecular_function \"The actions of a single gene product or complex at the molecular level consisting of a single biochemical activity or multiple causally linked biochemical activities. A given gene product may exhibit one or more molecular functions.\" [GOC:go_curators]\n"
     ]
    }
   ],
   "source": [
    "print(go_id)\n",
    "refs = do_request(ensembl_server, 'ontology/descendants', go_id)\n",
    "for go in refs:\n",
    "    print(go['accession'], go['name'], go['definition'])"
   ]
  },
  {
   "cell_type": "code",
   "execution_count": null,
   "metadata": {
    "collapsed": false
   },
   "outputs": [],
   "source": []
  }
 ],
 "metadata": {
  "kernelspec": {
   "display_name": "Python 3",
   "language": "python",
   "name": "python3"
  },
  "language_info": {
   "codemirror_mode": {
    "name": "ipython",
    "version": 3
   },
   "file_extension": ".py",
   "mimetype": "text/x-python",
   "name": "python",
   "nbconvert_exporter": "python",
   "pygments_lexer": "ipython3",
   "version": "3.6.5"
  }
 },
 "nbformat": 4,
 "nbformat_minor": 2
}
