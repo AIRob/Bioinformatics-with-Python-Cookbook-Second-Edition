{
 "cells": [
  {
   "cell_type": "code",
   "execution_count": 3,
   "metadata": {
    "collapsed": false
   },
   "outputs": [],
   "source": [
    "#XXX pip install gffutils\n",
    "from collections import defaultdict\n",
    "\n",
    "import gffutils\n",
    "import sqlite3"
   ]
  },
  {
   "cell_type": "code",
   "execution_count": 4,
   "metadata": {
    "collapsed": false
   },
   "outputs": [
    {
     "name": "stdout",
     "output_type": "stream",
     "text": [
      "--2018-05-04 12:02:39--  http://www.vectorbase.org/download/anopheles-gambiae-pestbasefeaturesagamp42gff3gz\n",
      "Resolving www.vectorbase.org (www.vectorbase.org)... 129.74.255.228\n",
      "Connecting to www.vectorbase.org (www.vectorbase.org)|129.74.255.228|:80... connected.\n",
      "HTTP request sent, awaiting response... 302 Found\n",
      "Location: https://www.vectorbase.org/download/anopheles-gambiae-pestbasefeaturesagamp42gff3gz [following]\n",
      "--2018-05-04 12:02:39--  https://www.vectorbase.org/download/anopheles-gambiae-pestbasefeaturesagamp42gff3gz\n",
      "Connecting to www.vectorbase.org (www.vectorbase.org)|129.74.255.228|:443... connected.\n",
      "HTTP request sent, awaiting response... 302 Found\n",
      "Location: https://www.vectorbase.org/sites/default/files/ftp/downloads/Anopheles-gambiae-PEST_BASEFEATURES_AgamP4.2.gff3.gz [following]\n",
      "--2018-05-04 12:02:40--  https://www.vectorbase.org/sites/default/files/ftp/downloads/Anopheles-gambiae-PEST_BASEFEATURES_AgamP4.2.gff3.gz\n",
      "Reusing existing connection to www.vectorbase.org:443.\n",
      "HTTP request sent, awaiting response... 200 OK\n",
      "Length: 2702601 (2.6M) [application/x-gzip]\n",
      "Saving to: ‘gambiae.gff.gz’\n",
      "\n",
      "gambiae.gff.gz      100%[===================>]   2.58M  8.32MB/s    in 0.3s    \n",
      "\n",
      "2018-05-04 12:02:40 (8.32 MB/s) - ‘gambiae.gff.gz’ saved [2702601/2702601]\n",
      "\n"
     ]
    }
   ],
   "source": [
    "!rm -rf gambiae.g?f.gz ag.db 2>/dev/null\n",
    "#!wget http://www.vectorbase.org/download/anopheles-gambiae-pestbasefeaturesagamp42gtfgz -O gambiae.gtf.gz\n",
    "!wget http://www.vectorbase.org/download/anopheles-gambiae-pestbasefeaturesagamp42gff3gz -O gambiae.gff.gz"
   ]
  },
  {
   "cell_type": "code",
   "execution_count": 5,
   "metadata": {
    "collapsed": false
   },
   "outputs": [],
   "source": [
    "!rm -f ag.db"
   ]
  },
  {
   "cell_type": "code",
   "execution_count": 6,
   "metadata": {
    "collapsed": false
   },
   "outputs": [],
   "source": [
    "try:\n",
    "    db = gffutils.create_db('gambiae.gff.gz', 'ag.db')\n",
    "except sqlite3.OperationalError:\n",
    "    db = gffutils.FeatureDB('ag.db')"
   ]
  },
  {
   "cell_type": "code",
   "execution_count": 7,
   "metadata": {
    "collapsed": false
   },
   "outputs": [
    {
     "name": "stdout",
     "output_type": "stream",
     "text": [
      "['CDS', 'RNase_P_RNA', 'SRP_RNA', 'contig', 'exon', 'five_prime_UTR', 'gene', 'mRNA', 'miRNA', 'misc_RNA', 'pseudogene', 'rRNA', 'snRNA', 'snoRNA', 'tRNA', 'tRNA_pseudogene', 'three_prime_UTR']\n",
      "CDS 62408\n",
      "RNase_P_RNA 1\n",
      "SRP_RNA 3\n",
      "contig 8\n",
      "exon 66485\n",
      "five_prime_UTR 10520\n",
      "gene 13624\n",
      "mRNA 14697\n",
      "miRNA 187\n",
      "misc_RNA 10\n",
      "pseudogene 5\n",
      "rRNA 53\n",
      "snRNA 38\n",
      "snoRNA 12\n",
      "tRNA 463\n",
      "tRNA_pseudogene 9\n",
      "three_prime_UTR 7281\n"
     ]
    }
   ],
   "source": [
    "print(list(db.featuretypes()))\n",
    "for feat_type in db.featuretypes():\n",
    "    print(feat_type, db.count_features_of_type(feat_type))"
   ]
  },
  {
   "cell_type": "code",
   "execution_count": 8,
   "metadata": {
    "collapsed": false
   },
   "outputs": [
    {
     "name": "stdout",
     "output_type": "stream",
     "text": [
      "2L\tVectorBase\tcontig\t1\t49364325\t.\t.\t.\tID=2L;molecule_type=dsDNA;translation_table=1;topology=linear;localization=chromosomal\n",
      "3R\tVectorBase\tcontig\t1\t53200684\t.\t.\t.\tID=3R;molecule_type=dsDNA;translation_table=1;topology=linear;localization=chromosomal\n",
      "UNKN\tVectorBase\tcontig\t1\t42389979\t.\t.\t.\tID=UNKN;molecule_type=dsDNA;translation_table=1;topology=linear;localization=chromosomal\n",
      "X\tVectorBase\tcontig\t1\t24393108\t.\t.\t.\tID=X;molecule_type=dsDNA;translation_table=1;topology=linear;localization=chromosomal\n",
      "Y_unplaced\tVectorBase\tcontig\t1\t237045\t.\t.\t.\tID=Y_unplaced;molecule_type=dsDNA;translation_table=1;topology=linear;localization=chromosomal\n",
      "Mt\tVectorBase\tcontig\t1\t15363\t.\t.\t.\tID=Mt;molecule_type=dsDNA;translation_table=1;topology=linear;localization=chromosomal\n",
      "2R\tVectorBase\tcontig\t1\t61545105\t.\t.\t.\tID=2R;molecule_type=dsDNA;translation_table=1;topology=linear;localization=chromosomal\n",
      "3L\tVectorBase\tcontig\t1\t41963435\t.\t.\t.\tID=3L;molecule_type=dsDNA;translation_table=1;topology=linear;localization=chromosomal\n"
     ]
    }
   ],
   "source": [
    "for contig in db.features_of_type('contig'):\n",
    "    print(contig)"
   ]
  },
  {
   "cell_type": "code",
   "execution_count": 10,
   "metadata": {
    "collapsed": false
   },
   "outputs": [
    {
     "name": "stdout",
     "output_type": "stream",
     "text": [
      "contig 2L, number of genes 3105\n",
      "contig 3R, number of genes 2763\n",
      "contig UNKN, number of genes 567\n",
      "contig X, number of genes 1097\n",
      "contig Y_unplaced, number of genes 0\n",
      "contig Mt, number of genes 37\n",
      "contig 2R, number of genes 3834\n",
      "contig 3L, number of genes 2221\n",
      "Max number of exons: AGAP010147 (188)\n",
      "Max span: AGAP006656 (365621)\n",
      "defaultdict(<class 'int'>, {2: 910, 1: 11595, 3: 211, 4: 74, 0: 781, 11: 3, 5: 27, 8: 4, 12: 1, 7: 5, 6: 9, 13: 1, 10: 1, 20: 1, 9: 1})\n",
      "defaultdict(<class 'int'>, {8: 481, 2: 3147, 11: 253, 1: 1995, 3: 2379, 19: 82, 21: 79, 31: 22, 23: 70, 10: 316, 6: 869, 4: 1701, 12: 265, 93: 3, 5: 1088, 26: 49, 7: 651, 13: 196, 15: 162, 14: 144, 9: 408, 35: 31, 20: 91, 38: 16, 16: 102, 24: 64, 18: 90, 17: 76, 46: 3, 37: 23, 110: 11, 53: 5, 30: 53, 27: 29, 22: 36, 48: 20, 44: 12, 75: 12, 50: 23, 41: 7, 71: 7, 25: 31, 47: 25, 32: 15, 34: 34, 52: 5, 102: 4, 43: 8, 28: 34, 36: 22, 33: 21, 49: 7, 57: 7, 42: 9, 70: 3, 29: 17, 39: 25, 45: 16, 188: 11, 68: 3, 89: 5, 56: 22, 40: 8, 51: 9, 54: 5, 67: 1, 86: 10, 120: 4, 77: 6, 104: 20, 141: 3, 150: 6, 55: 11})\n"
     ]
    }
   ],
   "source": [
    "#XXX Change\n",
    "num_mRNAs = defaultdict(int)\n",
    "num_exons = defaultdict(int)\n",
    "max_exons = 0\n",
    "max_span = 0\n",
    "for contig in db.features_of_type('contig'):\n",
    "    cnt = 0\n",
    "    for gene in db.region((contig.seqid, contig.start, contig.end), featuretype='gene'):\n",
    "        cnt += 1\n",
    "        span = abs(gene.start - gene.end) # strand\n",
    "        if span > max_span:\n",
    "            max_span = span\n",
    "            max_span_gene = gene\n",
    "        my_mRNAs = list(db.children(gene, featuretype='mRNA'))\n",
    "        my_exons = list(db.children(gene, featuretype='exon'))\n",
    "        num_mRNAs[len(my_mRNAs)] += 1\n",
    "        if len(my_mRNAs) == 0:\n",
    "            exon_check = [gene]\n",
    "        else:\n",
    "            exon_check = my_mRNAs\n",
    "        for check in exon_check:\n",
    "            num_exons[len(my_exons)] += 1\n",
    "            if len(my_exons) > max_exons:\n",
    "                max_exons = len(my_exons)\n",
    "                max_exons_gene = gene\n",
    "    print('contig %s, number of genes %d' % (contig.seqid, cnt))\n",
    "print('Max number of exons: %s (%d)' % (max_exons_gene.id, max_exons))\n",
    "print('Max span: %s (%d)' % (max_span_gene.id, max_span))\n",
    "print(num_mRNAs)\n",
    "print(num_exons)"
   ]
  },
  {
   "cell_type": "code",
   "execution_count": null,
   "metadata": {
    "collapsed": false
   },
   "outputs": [],
   "source": []
  }
 ],
 "metadata": {
  "kernelspec": {
   "display_name": "Python 3",
   "language": "python",
   "name": "python3"
  },
  "language_info": {
   "codemirror_mode": {
    "name": "ipython",
    "version": 3
   },
   "file_extension": ".py",
   "mimetype": "text/x-python",
   "name": "python",
   "nbconvert_exporter": "python",
   "pygments_lexer": "ipython3",
   "version": "3.6.5"
  }
 },
 "nbformat": 4,
 "nbformat_minor": 2
}
